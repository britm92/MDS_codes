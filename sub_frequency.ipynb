{
 "cells": [
  {
   "cell_type": "code",
   "execution_count": 59,
   "metadata": {
    "collapsed": true
   },
   "outputs": [],
   "source": [
    "%matplotlib inline\n",
    "import pandas as pd\n",
    "import matplotlib.pyplot as plt\n",
    "import seaborn as sns\n",
    "sns.set_style('whitegrid')"
   ]
  },
  {
   "cell_type": "code",
   "execution_count": 74,
   "metadata": {
    "collapsed": false
   },
   "outputs": [],
   "source": [
    "def check_cols(col_lis,df):\n",
    "    base_lis=['A','T','G','C']\n",
    "    miss_cols=set(base_lis).difference(col_lis)\n",
    "    for col in miss_cols:\n",
    "        df[col]=0.0\n",
    "    return df\n",
    "\n",
    "def make_df(file1):\n",
    "    df=pd.read_csv(file1,skiprows=2,delim_whitespace=True,header=None)\n",
    "    df.columns=['pos','sub','count']\n",
    "    filtered=df[df['sub'].str.contains(\"A|T|G|C\")]\n",
    "    filtered['sub']=filtered['sub'].apply(lambda x : x.split(\"->\")[1])\n",
    "    df_wide=filtered.pivot(index='pos', columns='sub', values='count')\n",
    "    df_wide.fillna(value=0,inplace=True)\n",
    "    df_wide=check_cols(df_wide.columns,df_wide)\n",
    "    \n",
    "    return df_wide\n",
    "\n",
    "\n",
    "    \n",
    "    \n",
    "    \n",
    "    \n",
    "        "
   ]
  },
  {
   "cell_type": "code",
   "execution_count": 75,
   "metadata": {
    "collapsed": false
   },
   "outputs": [],
   "source": [
    "df_wide=(make_df('test'))"
   ]
  },
  {
   "cell_type": "code",
   "execution_count": 77,
   "metadata": {
    "collapsed": false
   },
   "outputs": [
    {
     "data": {
      "text/plain": [
       "<matplotlib.text.Text at 0x11ae6aa58>"
      ]
     },
     "execution_count": 77,
     "metadata": {},
     "output_type": "execute_result"
    },
    {
     "data": {
      "image/png": "[encoded data removed]",
      "text/plain": [
       "<matplotlib.figure.Figure at 0x119d15f28>"
      ]
     },
     "metadata": {},
     "output_type": "display_data"
    }
   ],
   "source": [
    "df_wide.plot(kind='bar',stacked=True,figsize=(20,7),color=['#E8301E','#1B94DE','#31CD0E','#F7F42B'])\n",
    "plt.ylabel('Count',fontsize=20)\n",
    "plt.xlabel('Position',fontsize=20)"
   ]
  },
  {
   "cell_type": "code",
   "execution_count": null,
   "metadata": {
    "collapsed": false
   },
   "outputs": [],
   "source": []
  },
  {
   "cell_type": "code",
   "execution_count": null,
   "metadata": {
    "collapsed": false
   },
   "outputs": [],
   "source": []
  },
  {
   "cell_type": "code",
   "execution_count": null,
   "metadata": {
    "collapsed": true
   },
   "outputs": [],
   "source": []
  }
 ],
 "metadata": {
  "kernelspec": {
   "display_name": "Python 3",
   "language": "python",
   "name": "python3"
  },
  "language_info": {
   "codemirror_mode": {
    "name": "ipython",
    "version": 3
   },
   "file_extension": ".py",
   "mimetype": "text/x-python",
   "name": "python",
   "nbconvert_exporter": "python",
   "pygments_lexer": "ipython3",
   "version": "3.6.0"
  }
 },
 "nbformat": 4,
 "nbformat_minor": 2
}
