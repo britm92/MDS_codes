{
 "cells": [
  {
   "cell_type": "code",
   "execution_count": 1,
   "metadata": {},
   "outputs": [
    {
     "name": "stderr",
     "output_type": "stream",
     "text": [
      "/Users/britney/anaconda/lib/python3.5/importlib/_bootstrap.py:222: RuntimeWarning: numpy.dtype size changed, may indicate binary incompatibility. Expected 96, got 88\n",
      "  return f(*args, **kwds)\n",
      "/Users/britney/anaconda/lib/python3.5/importlib/_bootstrap.py:222: RuntimeWarning: numpy.dtype size changed, may indicate binary incompatibility. Expected 96, got 88\n",
      "  return f(*args, **kwds)\n"
     ]
    }
   ],
   "source": [
    "%matplotlib inline\n",
    "import pandas as pd\n",
    "import matplotlib.pyplot as plt\n",
    "import seaborn as sns\n",
    "sns.set_style('whitegrid')"
   ]
  },
  {
   "cell_type": "code",
   "execution_count": 37,
   "metadata": {},
   "outputs": [],
   "source": [
    "def check_cols(col_lis,df):\n",
    "    base_lis=['A','T','G','C']\n",
    "    miss_cols=set(base_lis).difference(col_lis)\n",
    "    for col in miss_cols:\n",
    "        df[col]=0.0\n",
    "    return df\n",
    "\n",
    "def make_df(file1):\n",
    "    roi_len=22\n",
    "    roi='ATGTGTTGTGGTGTGTGATGTA'\n",
    "    df=pd.read_csv(file1,skiprows=2,delim_whitespace=True,header=None)\n",
    "    df.columns=['pos','sub','count']\n",
    "    filtered=df[df['sub'].str.contains(\"A|T|G|C\")]\n",
    "    filtered['sub']=filtered['sub'].apply(lambda x : x.split(\"->\")[1])\n",
    "    df_wide=filtered.pivot(index='pos', columns='sub', values='count')\n",
    "    df_wide.fillna(value=0,inplace=True)\n",
    "    df_wide=check_cols(df_wide.columns,df_wide)\n",
    "    df_wide=df_wide.reindex(range(1,roi_len+1))\n",
    "    df_wide.fillna(0, inplace=True)\n",
    "    df_wide['ROI']=list(roi)\n",
    "    df_wide.set_index('ROI',inplace=True)\n",
    "   \n",
    "    \n",
    "    return df_wide\n",
    "\n",
    "\n",
    "    \n",
    "    \n",
    "    \n",
    "    \n",
    "        "
   ]
  },
  {
   "cell_type": "code",
   "execution_count": 38,
   "metadata": {},
   "outputs": [],
   "source": [
    "df_wide=(make_df('test'))"
   ]
  },
  {
   "cell_type": "code",
   "execution_count": 44,
   "metadata": {},
   "outputs": [
    {
     "data": {
      "text/plain": [
       "(array([ 0,  1,  2,  3,  4,  5,  6,  7,  8,  9, 10, 11, 12, 13, 14, 15, 16,\n",
       "        17, 18, 19, 20, 21]), <a list of 22 Text xticklabel objects>)"
      ]
     },
     "execution_count": 44,
     "metadata": {},
     "output_type": "execute_result"
    },
    {
     "data": {
      "image/png": "[encoded data removed]",
      "text/plain": [
       "<Figure size 1440x504 with 1 Axes>"
      ]
     },
     "metadata": {},
     "output_type": "display_data"
    }
   ],
   "source": [
    "df_wide.plot(kind='bar',stacked=True,figsize=(20,7),color=['#E8301E','#1B94DE','#31CD0E','#F7F42B'])\n",
    "plt.ylabel('Count',fontsize=20)\n",
    "plt.xlabel('Position',fontsize=20)\n",
    "plt.xticks(rotation='horizontal')"
   ]
  },
  {
   "cell_type": "code",
   "execution_count": null,
   "metadata": {},
   "outputs": [],
   "source": []
  },
  {
   "cell_type": "code",
   "execution_count": null,
   "metadata": {},
   "outputs": [],
   "source": []
  },
  {
   "cell_type": "code",
   "execution_count": null,
   "metadata": {},
   "outputs": [],
   "source": []
  },
  {
   "cell_type": "code",
   "execution_count": null,
   "metadata": {},
   "outputs": [],
   "source": []
  },
  {
   "cell_type": "code",
   "execution_count": null,
   "metadata": {},
   "outputs": [],
   "source": []
  }
 ],
 "metadata": {
  "kernelspec": {
   "display_name": "Python [default]",
   "language": "python",
   "name": "python3"
  },
  "language_info": {
   "codemirror_mode": {
    "name": "ipython",
    "version": 3
   },
   "file_extension": ".py",
   "mimetype": "text/x-python",
   "name": "python",
   "nbconvert_exporter": "python",
   "pygments_lexer": "ipython3",
   "version": "3.5.5"
  }
 },
 "nbformat": 4,
 "nbformat_minor": 2
}
